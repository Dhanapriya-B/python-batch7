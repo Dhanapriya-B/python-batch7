{
 "cells": [
  {
   "cell_type": "markdown",
   "metadata": {},
   "source": [
    "# Dhanapriya B"
   ]
  },
  {
   "cell_type": "markdown",
   "metadata": {},
   "source": [
    "# Day 3 Assignment Batch 7"
   ]
  },
  {
   "cell_type": "markdown",
   "metadata": {},
   "source": [
    "# Question 1"
   ]
  },
  {
   "cell_type": "code",
   "execution_count": null,
   "metadata": {},
   "outputs": [],
   "source": [
    "#you all are pilots, you want to land a plane safely, so altitude required for landing a plane is 1000ft,if it is less than \n",
    "#that tell pilot to land the plane,if it is more than that but less than 5000ft ask the pilot to come down to 1000ft, else if\n",
    "#it is more than 5000ft ask the pilot to turn around"
   ]
  },
  {
   "cell_type": "code",
   "execution_count": null,
   "metadata": {},
   "outputs": [],
   "source": [
    "#solution"
   ]
  },
  {
   "cell_type": "code",
   "execution_count": 57,
   "metadata": {},
   "outputs": [
    {
     "name": "stdout",
     "output_type": "stream",
     "text": [
      "pilot wants to land a plane\n",
      "\n",
      "enter the altitude - 4700\n",
      "\n",
      "'Bring down to 1000 ft'\n"
     ]
    }
   ],
   "source": [
    "print(\"pilot wants to land a plane\")\n",
    "altitude=input(\"\\nenter the altitude - \")\n",
    "altitude=int(altitude)\n",
    "\n",
    "if altitude<=1000:\n",
    "    print(\"\\n'It is Safe to land'\")\n",
    "elif altitude<=5000:\n",
    "    print(\"\\n'Bring down to 1000 ft'\")\n",
    "else:\n",
    "    print(\"\\n'Turn Around'\")"
   ]
  },
  {
   "cell_type": "markdown",
   "metadata": {},
   "source": [
    "# Question 2"
   ]
  },
  {
   "cell_type": "code",
   "execution_count": null,
   "metadata": {},
   "outputs": [],
   "source": [
    "#using for loop print the prime numbers between 1-200 using FOR LOOP AND RANGE function"
   ]
  },
  {
   "cell_type": "code",
   "execution_count": null,
   "metadata": {},
   "outputs": [],
   "source": [
    "#solution"
   ]
  },
  {
   "cell_type": "code",
   "execution_count": 46,
   "metadata": {},
   "outputs": [
    {
     "name": "stdout",
     "output_type": "stream",
     "text": [
      "Prime Numbers :\n",
      "\n",
      "2,3,5,7,11,13,17,19,23,29,31,37,41,43,47,53,59,61,67,71,73,79,83,89,97,101,103,107,109,113,127,131,137,139,149,151,157,163,167,173,179,181,191,193,197,199,"
     ]
    }
   ],
   "source": [
    "print(\"Prime Numbers :\\n\")\n",
    "for i in range(1,200):\n",
    "    c=0\n",
    "    for j in range(1,i):\n",
    "        if i%j==0:\n",
    "            c=c+1\n",
    "    if c==1:\n",
    "        print(i,end=',')\n"
   ]
  },
  {
   "cell_type": "code",
   "execution_count": null,
   "metadata": {},
   "outputs": [],
   "source": []
  },
  {
   "cell_type": "code",
   "execution_count": null,
   "metadata": {},
   "outputs": [],
   "source": []
  }
 ],
 "metadata": {
  "kernelspec": {
   "display_name": "Python 3",
   "language": "python",
   "name": "python3"
  }
 },
 "nbformat": 4,
 "nbformat_minor": 4
}
