{
 "cells": [
  {
   "cell_type": "markdown",
   "metadata": {},
   "source": [
    "# Dhanapriya B"
   ]
  },
  {
   "cell_type": "markdown",
   "metadata": {},
   "source": [
    "# Day 8 Assignment Batch 7"
   ]
  },
  {
   "cell_type": "markdown",
   "metadata": {},
   "source": [
    "# Question 1"
   ]
  },
  {
   "cell_type": "code",
   "execution_count": 14,
   "metadata": {},
   "outputs": [],
   "source": [
    "#write a decorator function for your taking input for you any kind of function you want to build, for example-you make a \n",
    "#fibonacci series function, in which your input range is been defined by the decorator program input."
   ]
  },
  {
   "cell_type": "code",
   "execution_count": null,
   "metadata": {},
   "outputs": [],
   "source": [
    "#solution"
   ]
  },
  {
   "cell_type": "code",
   "execution_count": 7,
   "metadata": {},
   "outputs": [],
   "source": [
    "def getvalue(series):\n",
    "    def func():\n",
    "        value=int(input(\"enter the range : \"))\n",
    "        if value<1:\n",
    "            print(\"enter the positive value\")\n",
    "        else:\n",
    "            print(\"\\nFibonacci Series : \\n\")\n",
    "            series(value)\n",
    "            print(\"\\n\")\n",
    "            print(\"series are printed upto \",value,\" terms\")\n",
    "    return func\n",
    "            "
   ]
  },
  {
   "cell_type": "code",
   "execution_count": 8,
   "metadata": {},
   "outputs": [],
   "source": [
    "@getvalue\n",
    "def fibonacci(num):\n",
    "    a=0\n",
    "    b=1\n",
    "    c=0\n",
    "    while c<num:\n",
    "        print(a,end=\"   \")\n",
    "        sum=a+b\n",
    "        a=b\n",
    "        b=sum\n",
    "        c=c+1"
   ]
  },
  {
   "cell_type": "code",
   "execution_count": 9,
   "metadata": {},
   "outputs": [
    {
     "name": "stdout",
     "output_type": "stream",
     "text": [
      "enter the range : 10\n",
      "\n",
      "Fibonacci Series : \n",
      "\n",
      "0   1   1   2   3   5   8   13   21   34   \n",
      "\n",
      "series are printed upto  10  terms\n"
     ]
    }
   ],
   "source": [
    "fibonacci()"
   ]
  },
  {
   "cell_type": "code",
   "execution_count": 10,
   "metadata": {},
   "outputs": [
    {
     "name": "stdout",
     "output_type": "stream",
     "text": [
      "enter the range : 15\n",
      "\n",
      "Fibonacci Series : \n",
      "\n",
      "0   1   1   2   3   5   8   13   21   34   55   89   144   233   377   \n",
      "\n",
      "series are printed upto  15  terms\n"
     ]
    }
   ],
   "source": [
    "fibonacci()"
   ]
  },
  {
   "cell_type": "code",
   "execution_count": 11,
   "metadata": {},
   "outputs": [
    {
     "name": "stdout",
     "output_type": "stream",
     "text": [
      "enter the range : 20\n",
      "\n",
      "Fibonacci Series : \n",
      "\n",
      "0   1   1   2   3   5   8   13   21   34   55   89   144   233   377   610   987   1597   2584   4181   \n",
      "\n",
      "series are printed upto  20  terms\n"
     ]
    }
   ],
   "source": [
    "fibonacci()"
   ]
  },
  {
   "cell_type": "markdown",
   "metadata": {},
   "source": [
    "# Question 2"
   ]
  },
  {
   "cell_type": "code",
   "execution_count": 12,
   "metadata": {},
   "outputs": [],
   "source": [
    "#for this challenge you need to develop a python program to open a file in read only mode and try writing somethong to it and \n",
    "#handle the subsequent errors using exception handling"
   ]
  },
  {
   "cell_type": "code",
   "execution_count": 13,
   "metadata": {},
   "outputs": [],
   "source": [
    "#solution"
   ]
  },
  {
   "cell_type": "code",
   "execution_count": 26,
   "metadata": {},
   "outputs": [],
   "source": [
    "file=open(\"example.txt\",\"w\")\n",
    "file.write(\"python is created by Guido van Rossum and first released in 1991\")\n",
    "file.close()"
   ]
  },
  {
   "cell_type": "code",
   "execution_count": 27,
   "metadata": {},
   "outputs": [
    {
     "ename": "UnsupportedOperation",
     "evalue": "not writable",
     "output_type": "error",
     "traceback": [
      "\u001b[1;31m---------------------------------------------------------------------------\u001b[0m",
      "\u001b[1;31mUnsupportedOperation\u001b[0m                      Traceback (most recent call last)",
      "\u001b[1;32m<ipython-input-27-cb2c15804477>\u001b[0m in \u001b[0;36m<module>\u001b[1;34m\u001b[0m\n\u001b[0;32m      1\u001b[0m \u001b[0mfile\u001b[0m\u001b[1;33m=\u001b[0m\u001b[0mopen\u001b[0m\u001b[1;33m(\u001b[0m\u001b[1;34m\"example.txt\"\u001b[0m\u001b[1;33m,\u001b[0m\u001b[1;34m\"r\"\u001b[0m\u001b[1;33m)\u001b[0m\u001b[1;33m\u001b[0m\u001b[1;33m\u001b[0m\u001b[0m\n\u001b[1;32m----> 2\u001b[1;33m \u001b[0mfile\u001b[0m\u001b[1;33m.\u001b[0m\u001b[0mwrite\u001b[0m\u001b[1;33m(\u001b[0m\u001b[1;34m\"python is a high level programming language\"\u001b[0m\u001b[1;33m)\u001b[0m\u001b[1;33m\u001b[0m\u001b[1;33m\u001b[0m\u001b[0m\n\u001b[0m\u001b[0;32m      3\u001b[0m \u001b[0mfile\u001b[0m\u001b[1;33m.\u001b[0m\u001b[0mclose\u001b[0m\u001b[1;33m(\u001b[0m\u001b[1;33m)\u001b[0m\u001b[1;33m\u001b[0m\u001b[1;33m\u001b[0m\u001b[0m\n",
      "\u001b[1;31mUnsupportedOperation\u001b[0m: not writable"
     ]
    }
   ],
   "source": [
    "file=open(\"example.txt\",\"r\")\n",
    "file.write(\"python is a high level programming language\")\n",
    "file.close()"
   ]
  },
  {
   "cell_type": "code",
   "execution_count": 28,
   "metadata": {},
   "outputs": [],
   "source": [
    "#exception handling"
   ]
  },
  {
   "cell_type": "code",
   "execution_count": 30,
   "metadata": {},
   "outputs": [
    {
     "name": "stdout",
     "output_type": "stream",
     "text": [
      "Oops Error occured\n",
      "\n",
      "not writable\n",
      "\n",
      "try and except block executed\n"
     ]
    }
   ],
   "source": [
    "try:\n",
    "    file=open(\"example.txt\",\"r\")\n",
    "    file.write(\"python is a high level programming language\")\n",
    "    file.close()\n",
    "except Exception as e:\n",
    "    print(\"Oops Error occured\\n\")\n",
    "    print(e)\n",
    "finally:\n",
    "    print(\"\\ntry and except block executed\")"
   ]
  },
  {
   "cell_type": "code",
   "execution_count": null,
   "metadata": {},
   "outputs": [],
   "source": []
  }
 ],
 "metadata": {
  "kernelspec": {
   "display_name": "Python 3",
   "language": "python",
   "name": "python3"
  },
  "language_info": {
   "codemirror_mode": {
    "name": "ipython",
    "version": 3
   },
   "file_extension": ".py",
   "mimetype": "text/x-python",
   "name": "python",
   "nbconvert_exporter": "python",
   "pygments_lexer": "ipython3",
   "version": "3.8.3"
  }
 },
 "nbformat": 4,
 "nbformat_minor": 4
}
