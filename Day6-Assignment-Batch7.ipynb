{
 "cells": [
  {
   "cell_type": "markdown",
   "metadata": {},
   "source": [
    "# Dhanapriya B"
   ]
  },
  {
   "cell_type": "markdown",
   "metadata": {},
   "source": [
    "# Day 6 Assignment Batch 7"
   ]
  },
  {
   "cell_type": "markdown",
   "metadata": {},
   "source": [
    "# Question 1"
   ]
  },
  {
   "cell_type": "code",
   "execution_count": 1,
   "metadata": {},
   "outputs": [],
   "source": [
    "#for this challenge, create a bank account class that has two attributes ownerName balance and two methods deposit withdraw"
   ]
  },
  {
   "cell_type": "code",
   "execution_count": null,
   "metadata": {},
   "outputs": [],
   "source": [
    "# solution"
   ]
  },
  {
   "cell_type": "code",
   "execution_count": 1,
   "metadata": {},
   "outputs": [],
   "source": [
    "class bank_account():\n",
    "    def __init__(self,ownername,balance):\n",
    "        self.ownername=ownername\n",
    "        self.balance=balance\n",
    "    def deposit(self,deposit_amount):\n",
    "        self.deposit_amount=deposit_amount\n",
    "        self.balance=self.balance+self.deposit_amount\n",
    "        print(\"account holder's name : \",self.ownername)\n",
    "        print(\"deposit amount        : \",self.deposit_amount)\n",
    "        print(\"current balance       : \",self.balance)\n",
    "    def withdraw(self,withdraw_amount):\n",
    "        self.withdraw_amount=withdraw_amount\n",
    "        if self.withdraw_amount<=self.balance:\n",
    "            self.balance=self.balance-self.withdraw_amount\n",
    "            print(\"account holder's name : \",self.ownername)\n",
    "            print(\"withdraw amount       : \",self.withdraw_amount)\n",
    "            print(\"current balance       : \",self.balance)\n",
    "        else:\n",
    "            print(\"sorry low balance can't withdraw\")\n",
    "            print(\"current balance       : \",self.balance)"
   ]
  },
  {
   "cell_type": "code",
   "execution_count": 2,
   "metadata": {},
   "outputs": [],
   "source": [
    "account1=bank_account(\"sakthi\",50000)"
   ]
  },
  {
   "cell_type": "code",
   "execution_count": 3,
   "metadata": {},
   "outputs": [
    {
     "name": "stdout",
     "output_type": "stream",
     "text": [
      "account holder's name :  sakthi\n",
      "deposit amount        :  20000\n",
      "current balance       :  70000\n"
     ]
    }
   ],
   "source": [
    "account1.deposit(20000)"
   ]
  },
  {
   "cell_type": "code",
   "execution_count": 4,
   "metadata": {},
   "outputs": [
    {
     "name": "stdout",
     "output_type": "stream",
     "text": [
      "account holder's name :  sakthi\n",
      "withdraw amount       :  60000\n",
      "current balance       :  10000\n"
     ]
    }
   ],
   "source": [
    "account1.withdraw(60000)"
   ]
  },
  {
   "cell_type": "code",
   "execution_count": 5,
   "metadata": {},
   "outputs": [
    {
     "name": "stdout",
     "output_type": "stream",
     "text": [
      "sorry low balance can't withdraw\n",
      "current balance       :  10000\n"
     ]
    }
   ],
   "source": [
    "account1.withdraw(20000)"
   ]
  },
  {
   "cell_type": "code",
   "execution_count": 6,
   "metadata": {},
   "outputs": [],
   "source": [
    "account2=bank_account(\"ram\",40000)"
   ]
  },
  {
   "cell_type": "code",
   "execution_count": 7,
   "metadata": {},
   "outputs": [
    {
     "name": "stdout",
     "output_type": "stream",
     "text": [
      "account holder's name :  ram\n",
      "withdraw amount       :  20000\n",
      "current balance       :  20000\n"
     ]
    }
   ],
   "source": [
    "account2.withdraw(20000)"
   ]
  },
  {
   "cell_type": "code",
   "execution_count": 8,
   "metadata": {},
   "outputs": [
    {
     "name": "stdout",
     "output_type": "stream",
     "text": [
      "account holder's name :  ram\n",
      "deposit amount        :  30000\n",
      "current balance       :  50000\n"
     ]
    }
   ],
   "source": [
    "account2.deposit(30000)"
   ]
  },
  {
   "cell_type": "code",
   "execution_count": 9,
   "metadata": {},
   "outputs": [
    {
     "name": "stdout",
     "output_type": "stream",
     "text": [
      "sorry low balance can't withdraw\n",
      "current balance       :  50000\n"
     ]
    }
   ],
   "source": [
    "account2.withdraw(60000)"
   ]
  },
  {
   "cell_type": "code",
   "execution_count": 10,
   "metadata": {},
   "outputs": [
    {
     "name": "stdout",
     "output_type": "stream",
     "text": [
      "account holder's name :  ram\n",
      "withdraw amount       :  50000\n",
      "current balance       :  0\n"
     ]
    }
   ],
   "source": [
    "account2.withdraw(50000)"
   ]
  },
  {
   "cell_type": "markdown",
   "metadata": {},
   "source": [
    "# Question 2"
   ]
  },
  {
   "cell_type": "code",
   "execution_count": 11,
   "metadata": {},
   "outputs": [],
   "source": [
    "#for this challenge, create a cone class that has two attributes R=Radius h=Height and two methods volume and surface area"
   ]
  },
  {
   "cell_type": "code",
   "execution_count": 12,
   "metadata": {},
   "outputs": [],
   "source": [
    "#solution"
   ]
  },
  {
   "cell_type": "code",
   "execution_count": 42,
   "metadata": {},
   "outputs": [],
   "source": [
    "import math\n",
    "class cone():\n",
    "    def __init__(self,r,h):\n",
    "        self.r=r\n",
    "        self.h=h\n",
    "    def volume(self):\n",
    "        print(\"volume of a cone : \",math.pi*self.r*self.r*self.h/3)\n",
    "    def surfacearea(self):\n",
    "        print(\"surface area of a cone : \",math.pi*self.r*self.r + math.pi*self.r*math.sqrt(self.r*self.r+self.h*self.h))"
   ]
  },
  {
   "cell_type": "code",
   "execution_count": 32,
   "metadata": {},
   "outputs": [],
   "source": [
    "cal=cone(5,6)"
   ]
  },
  {
   "cell_type": "code",
   "execution_count": 33,
   "metadata": {},
   "outputs": [
    {
     "name": "stdout",
     "output_type": "stream",
     "text": [
      "volume of a cone :  157.07963267948966\n"
     ]
    }
   ],
   "source": [
    "cal.volume()"
   ]
  },
  {
   "cell_type": "code",
   "execution_count": 34,
   "metadata": {},
   "outputs": [
    {
     "name": "stdout",
     "output_type": "stream",
     "text": [
      "surface area of a cone :  201.22293136239688\n"
     ]
    }
   ],
   "source": [
    "cal.surfacearea()"
   ]
  },
  {
   "cell_type": "code",
   "execution_count": 35,
   "metadata": {},
   "outputs": [],
   "source": [
    "cal2=cone(4,7)"
   ]
  },
  {
   "cell_type": "code",
   "execution_count": 36,
   "metadata": {},
   "outputs": [
    {
     "name": "stdout",
     "output_type": "stream",
     "text": [
      "volume of a cone :  117.28612573401894\n"
     ]
    }
   ],
   "source": [
    "cal2.volume()"
   ]
  },
  {
   "cell_type": "code",
   "execution_count": 37,
   "metadata": {},
   "outputs": [
    {
     "name": "stdout",
     "output_type": "stream",
     "text": [
      "surface area of a cone :  151.57880131104514\n"
     ]
    }
   ],
   "source": [
    "cal2.surfacearea()"
   ]
  },
  {
   "cell_type": "code",
   "execution_count": 44,
   "metadata": {},
   "outputs": [
    {
     "name": "stdout",
     "output_type": "stream",
     "text": [
      "enter the radius of cone : 8\n",
      "enter the height of cone : 6\n"
     ]
    }
   ],
   "source": [
    "r=int(input(\"enter the radius of cone : \"))\n",
    "h=int(input(\"enter the height of cone : \"))"
   ]
  },
  {
   "cell_type": "code",
   "execution_count": 45,
   "metadata": {},
   "outputs": [],
   "source": [
    "cal3=cone(r,h)"
   ]
  },
  {
   "cell_type": "code",
   "execution_count": 46,
   "metadata": {},
   "outputs": [
    {
     "name": "stdout",
     "output_type": "stream",
     "text": [
      "volume of a cone :  402.1238596594935\n"
     ]
    }
   ],
   "source": [
    "cal3.volume()"
   ]
  },
  {
   "cell_type": "code",
   "execution_count": 47,
   "metadata": {},
   "outputs": [
    {
     "name": "stdout",
     "output_type": "stream",
     "text": [
      "surface area of a cone :  452.3893421169302\n"
     ]
    }
   ],
   "source": [
    "cal3.surfacearea()"
   ]
  },
  {
   "cell_type": "code",
   "execution_count": null,
   "metadata": {},
   "outputs": [],
   "source": []
  }
 ],
 "metadata": {
  "kernelspec": {
   "display_name": "Python 3",
   "language": "python",
   "name": "python3"
  },
  "language_info": {
   "codemirror_mode": {
    "name": "ipython",
    "version": 3
   },
   "file_extension": ".py",
   "mimetype": "text/x-python",
   "name": "python",
   "nbconvert_exporter": "python",
   "pygments_lexer": "ipython3",
   "version": "3.8.3"
  }
 },
 "nbformat": 4,
 "nbformat_minor": 4
}
